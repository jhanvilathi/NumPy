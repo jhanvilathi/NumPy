{
 "cells": [
  {
   "cell_type": "markdown",
   "id": "8a1a2b3f-6e6d-4345-aa0d-02b8ec43aba1",
   "metadata": {},
   "source": [
    "# Numpy"
   ]
  },
  {
   "cell_type": "markdown",
   "id": "4c38b3a5-431e-4450-bf38-7acf312dbfff",
   "metadata": {},
   "source": [
    "## Theoretical Questions:"
   ]
  },
  {
   "cell_type": "markdown",
   "id": "c106e239-644e-4bfb-8955-e4767e03b45c",
   "metadata": {},
   "source": [
    "### Que 1. Explain the purpose and advantages of NumPy in scientific computing and data analysis. How does it enhance Python's capabilities for numerical operations?"
   ]
  },
  {
   "cell_type": "markdown",
   "id": "e0c5a7b3-f86d-4c2a-87c0-a42cfac62a72",
   "metadata": {},
   "source": [
    "### Answer 1\n",
    "NumPy, short for Numerical Python, is a fundamental library in Python for scientific computing and data analysis. It provides powerful data structures and functions that enhance Python's capabilities for numerical operations. Here’s a closer look at its purpose and advantages:\n",
    "\n",
    "#### Purpose of NumPy\n",
    "1. **Array Computing**: At its core, NumPy introduces the `ndarray`, a powerful N-dimensional array object that allows for efficient storage and manipulation of large datasets.\n",
    "2. **Numerical Operations**: It facilitates mathematical operations on arrays, including element-wise operations, linear algebra, statistical operations, and more.\n",
    "3. **Interoperability**: NumPy serves as a foundational library that many other scientific libraries (like SciPy, Pandas, and Matplotlib) build upon, making it crucial for scientific workflows in Python.\n",
    "\n",
    "#### Advantages of NumPy\n",
    "\n",
    "1. **Performance**:\n",
    "   - **Efficiency**: NumPy arrays are more efficient than Python lists for numerical data because they store data in contiguous blocks of memory. This leads to faster access and processing.\n",
    "   - **Vectorization**: Operations on NumPy arrays are vectorized, which means they can be executed in compiled code rather than interpreted Python, significantly speeding up calculations.\n",
    "\n",
    "2. **Convenience**:\n",
    "   - **Rich Functionality**: NumPy comes with a wide range of mathematical functions for performing operations on arrays, from basic arithmetic to more complex linear algebra and statistical functions.\n",
    "   - **Broadcasting**: This feature allows operations to be performed on arrays of different shapes, making it easier to write cleaner and more intuitive code.\n",
    "\n",
    "3. **Flexibility**:\n",
    "   - **Multi-dimensional Support**: NumPy can handle arrays of any dimension, enabling complex data manipulation and mathematical modeling.\n",
    "   - **Data Types**: It supports a variety of data types, including integers, floats, and more complex types, allowing users to choose the appropriate type for their specific application.\n",
    "\n",
    "4. **Integration**:\n",
    "   - **Compatibility with Other Libraries**: NumPy arrays are compatible with a variety of other Python libraries, facilitating smooth integration in data analysis pipelines.\n",
    "   - **C and Fortran Integration**: NumPy allows for easy integration with C and Fortran code, which is beneficial for performance-critical applications.\n",
    "\n",
    "5. **Community and Documentation**:\n",
    "   - **Strong Community**: Being widely used in the scientific community, there is a wealth of resources, documentation, and community support available.\n",
    "   - **Extensive Documentation**: The well-maintained documentation makes it easier for newcomers to learn and use the library effectively.\n",
    "\n",
    "#### Enhancements to Python’s Capabilities\n",
    "\n",
    "- **Speed and Efficiency**: NumPy’s array operations are implemented in C, allowing for execution speeds that are typically much faster than pure Python code.\n",
    "- **Ease of Use**: It provides a straightforward syntax for complex mathematical operations, reducing the learning curve for those familiar with array-based programming languages like MATLAB.\n",
    "- **Data Manipulation**: NumPy simplifies data manipulation, enabling tasks like reshaping, slicing, and aggregating data with minimal code.\n",
    "\n",
    "In summary, NumPy enhances Python's capabilities for numerical operations by providing efficient, flexible, and easy-to-use data structures and functions, making it an essential tool for scientific computing and data analysis."
   ]
  },
  {
   "cell_type": "markdown",
   "id": "28bf4011-1c23-4984-b08c-ff1ac50c9224",
   "metadata": {},
   "source": [
    "### Que 2. Compare and contrast np.mean() and np.average() functions in NumPy. When would you use one over the other??"
   ]
  },
  {
   "cell_type": "markdown",
   "id": "c8cb4b9e-e81c-4f4e-9882-61402dbe4002",
   "metadata": {},
   "source": [
    "### Answer\n",
    "Both np.mean() and np.average() are functions in NumPy used to compute the average of elements in an array, but they have some important differences in functionality and use cases. Here’s a detailed comparison:\n",
    "\n",
    "#### Purpose: \n",
    "Computes the arithmetic mean (average) of the elements along a specified axis.\n",
    "#### Usage: \n",
    "Generally straightforward; you simply pass the array and optionally specify the axis.\n",
    "#### Syntax:"
   ]
  },
  {
   "cell_type": "markdown",
   "id": "4e3f9d94-f391-44e2-a983-5291efae647f",
   "metadata": {},
   "source": [
    "np.mean(a, axis=None, dtype=None, out=None, keepdims=False)"
   ]
  },
  {
   "cell_type": "markdown",
   "id": "26ca7e74-b04b-46cf-9d8d-2aeb8d155432",
   "metadata": {},
   "source": [
    "#### Weighting: \n",
    "Does not support weighting; every element contributes equally to the mean.\n",
    "np.average()\n",
    "#### Purpose: \n",
    "Computes the weighted average of the elements, allowing for the incorporation of weights for different elements.\n",
    "#### Usage: \n",
    "More flexible than np.mean(), as it allows you to specify an array of weights.\n",
    "#### Syntax:"
   ]
  },
  {
   "cell_type": "markdown",
   "id": "012de942-5d2a-409c-a829-2fc8735fa4ed",
   "metadata": {},
   "source": [
    "np.average(a, axis=None, weights=None, returned=False)\n"
   ]
  },
  {
   "cell_type": "markdown",
   "id": "dd09f62a-6000-49c9-8480-8d3e5db259a7",
   "metadata": {},
   "source": [
    "#### Weighting: \n",
    "Supports weighting; if weights are provided, they determine the contribution of each element to the average. If weights are not provided, it behaves like np.mean().\n",
    "### Key Differences\n",
    "#### Functionality:\n",
    "\n",
    "np.mean() calculates a simple arithmetic mean without any weights.\n",
    "np.average() can calculate a weighted average when weights are specified, making it more versatile in certain scenarios.\n",
    "#### Performance:\n",
    "\n",
    "Both functions are generally efficient, but np.mean() is often slightly faster since it performs a straightforward calculation without the overhead of handling weights.\n",
    "#### Input Requirements:\n",
    "\n",
    "np.mean() only requires the input array.\n",
    "np.average() requires the input array and optionally a weights array, which can lead to more complex use cases.\n",
    "When to Use Each\n",
    "#### Use np.mean():\n",
    "\n",
    "When you simply need the average of a dataset without considering weights.\n",
    "In most general-purpose scenarios where a simple mean is sufficient.\n",
    "#### Use np.average():\n",
    "\n",
    "When dealing with datasets where different elements should contribute unequally to the average (e.g., in a situation where you have grades with different credit hours).\n",
    "When you need to include a specific weighting factor that impacts the result.\n",
    "### Example\n",
    "Here's a quick example to illustrate the difference:"
   ]
  },
  {
   "cell_type": "code",
   "execution_count": 7,
   "id": "557e7f88-e339-4751-87ae-9c8b684329ed",
   "metadata": {},
   "outputs": [],
   "source": [
    "import numpy as np\n",
    "\n",
    "data = np.array([1, 2, 3, 4])\n",
    "\n",
    "# Simple mean\n",
    "mean_value = np.mean(data)  # Outputs: 2.5\n",
    "\n",
    "# Weighted average\n",
    "weights = np.array([1, 2, 3, 4])\n",
    "weighted_average = np.average(data, weights=weights)"
   ]
  },
  {
   "cell_type": "markdown",
   "id": "9100d13d-ca14-468e-9590-959467a1e86d",
   "metadata": {},
   "source": [
    "In this example, np.mean() provides the arithmetic mean, while np.average() takes into account the weights associated with each element, resulting in a different average."
   ]
  },
  {
   "cell_type": "markdown",
   "id": "664433fa-bef7-4c69-9159-0463a9c812e6",
   "metadata": {},
   "source": [
    "### Que 3. Describe the methods for reversing a NumPy array along different axes. Provide examples for 1D and 2D arrays."
   ]
  },
  {
   "cell_type": "markdown",
   "id": "b531bf6d-30d2-4c14-a480-a10b90bd0388",
   "metadata": {},
   "source": [
    "### Answer\n",
    "Reversing a NumPy array can be done along different axes using various methods. Here’s how you can reverse 1D and 2D arrays in NumPy:\n",
    "\n",
    "Reversing a 1D Array\n",
    "For a 1D array, reversing can be done using slicing:\n",
    "\n",
    "### Example"
   ]
  },
  {
   "cell_type": "code",
   "execution_count": 8,
   "id": "1fb3335f-8fec-4101-975e-03d75aa67198",
   "metadata": {},
   "outputs": [
    {
     "name": "stdout",
     "output_type": "stream",
     "text": [
      "Original 1D array: [1 2 3 4 5]\n",
      "Reversed 1D array: [5 4 3 2 1]\n"
     ]
    }
   ],
   "source": [
    "import numpy as np\n",
    "\n",
    "# Create a 1D array\n",
    "arr_1d = np.array([1, 2, 3, 4, 5])\n",
    "\n",
    "# Reverse the array\n",
    "reversed_arr_1d = arr_1d[::-1]\n",
    "\n",
    "print(\"Original 1D array:\", arr_1d)\n",
    "print(\"Reversed 1D array:\", reversed_arr_1d)"
   ]
  },
  {
   "cell_type": "markdown",
   "id": "7f4daf9d-c2c1-460f-ace4-c9e870f69cda",
   "metadata": {},
   "source": [
    "Reversing a 2D Array\n",
    "For a 2D array, you can reverse along specific axes (0 for rows, 1 for columns). You can use slicing in a similar manner.\n",
    "\n",
    "### Example: \n",
    "Reverse along axis 0 (rows)"
   ]
  },
  {
   "cell_type": "code",
   "execution_count": 11,
   "id": "674e57aa-86df-4c44-b435-c8b7d04cd43f",
   "metadata": {},
   "outputs": [
    {
     "name": "stdout",
     "output_type": "stream",
     "text": [
      "Original 2D array:\n",
      " [[1 2 3]\n",
      " [4 5 6]\n",
      " [7 8 9]]\n",
      "Reversed 2D array along axis 0:\n",
      " [[7 8 9]\n",
      " [4 5 6]\n",
      " [1 2 3]]\n"
     ]
    }
   ],
   "source": [
    "# Create a 2D array\n",
    "arr_2d = np.array([[1, 2, 3],\n",
    "                   [4, 5, 6],\n",
    "                   [7, 8, 9]])\n",
    "\n",
    "# Reverse along axis 0 (rows)\n",
    "reversed_arr_2d_axis0 = arr_2d[::-1]\n",
    "\n",
    "print(\"Original 2D array:\\n\", arr_2d)\n",
    "print(\"Reversed 2D array along axis 0:\\n\", reversed_arr_2d_axis0)"
   ]
  },
  {
   "cell_type": "markdown",
   "id": "21d168dc-c211-4d80-bf15-f2fb236c7f59",
   "metadata": {},
   "source": [
    "### Example: \n",
    "Reverse along axis 1 (columns)"
   ]
  },
  {
   "cell_type": "markdown",
   "id": "2ec34e7c-5d3d-40a9-b31a-fa95d88b3479",
   "metadata": {},
   "source": [
    "# Reverse along axis 1 (columns)\n",
    "reversed_arr_2d_axis1 = arr_2d[:, ::-1]\n",
    "\n",
    "print(\"Reversed 2D array along axis 1:\\n\", reversed_arr_2d_axis1)"
   ]
  },
  {
   "cell_type": "markdown",
   "id": "01a7f6a6-2eeb-4555-9970-5f9adad95791",
   "metadata": {},
   "source": [
    "#### Summary of Methods\n",
    "##### 1D Arrays: \n",
    "Use slicing [::-1] to reverse the entire array.\n",
    "##### 2D Arrays: \n",
    "###### Use slicing:\n",
    "[::-1] to reverse along axis 0 (rows).\n",
    "[:, ::-1] to reverse along axis 1 (columns).\n",
    "These methods provide a straightforward way to manipulate array orientations in NumPy."
   ]
  },
  {
   "cell_type": "markdown",
   "id": "e28d37d7-ba37-4c2a-81cc-a048f7830477",
   "metadata": {},
   "source": [
    "### Que 4. How can you determine the data type of elements in a NumPy array? Discuss the importance of data types in memory management and performance..\r\n",
    "\r\n",
    "\r"
   ]
  },
  {
   "cell_type": "markdown",
   "id": "6a068633-3ebf-42ed-8f17-5db3fc17f41f",
   "metadata": {},
   "source": [
    "### Answer\n",
    "To determine the data type of elements in a NumPy array, you can use the .dtype attribute. This attribute provides information about the type of data stored in the array.\n",
    "\n",
    "Determining the Data Type\n",
    "#### Example\n",
    "Here’s a quick example of how to check the data type of a NumPy array:"
   ]
  },
  {
   "cell_type": "code",
   "execution_count": 12,
   "id": "83ac7d3e-4fac-4dd4-a375-1856ce76f681",
   "metadata": {},
   "outputs": [
    {
     "name": "stdout",
     "output_type": "stream",
     "text": [
      "Data type of the array: int32\n"
     ]
    }
   ],
   "source": [
    "import numpy as np\n",
    "\n",
    "# Create a NumPy array\n",
    "arr = np.array([1, 2, 3, 4])\n",
    "\n",
    "# Determine the data type\n",
    "data_type = arr.dtype\n",
    "\n",
    "print(\"Data type of the array:\", data_type)"
   ]
  },
  {
   "cell_type": "markdown",
   "id": "15be2664-54c3-4443-998e-1c85e07f837a",
   "metadata": {},
   "source": [
    "You can also check the data type of more complex arrays:"
   ]
  },
  {
   "cell_type": "code",
   "execution_count": 13,
   "id": "e234b455-deee-4589-8f9d-ce78e5ec329f",
   "metadata": {},
   "outputs": [
    {
     "name": "stdout",
     "output_type": "stream",
     "text": [
      "Data type of the float array: float64\n",
      "Data type of the complex array: complex128\n"
     ]
    }
   ],
   "source": [
    "# Create an array with floats\n",
    "arr_float = np.array([1.0, 2.0, 3.0])\n",
    "print(\"Data type of the float array:\", arr_float.dtype)  # Output: float64\n",
    "\n",
    "# Create an array with complex numbers\n",
    "arr_complex = np.array([1 + 2j, 3 + 4j])\n",
    "print(\"Data type of the complex array:\", arr_complex.dtype) "
   ]
  },
  {
   "cell_type": "markdown",
   "id": "603a8778-563a-473a-a751-f78e08a4bf8b",
   "metadata": {},
   "source": [
    "### Importance of Data Types\n",
    "#### Memory Management:\n",
    "\n",
    "##### Efficient Storage:\n",
    "Different data types consume different amounts of memory. For example, int8 takes 1 byte, int16 takes 2 bytes, and int64 takes 8 bytes. Choosing the appropriate type helps manage memory efficiently, especially in large datasets.\n",
    "Avoiding Overhead: Using unnecessarily large data types can lead to wasted memory, which is critical in resource-constrained environments or when handling large-scale data.\n",
    "#### Performance:\n",
    "\n",
    "##### Computation Speed: \n",
    "Operations on smaller data types (like float32 instead of float64) can be faster due to reduced memory bandwidth requirements. This is particularly important for performance-sensitive applications, such as numerical simulations and data analysis.\n",
    "Vectorization: NumPy leverages vectorized operations for efficiency. Using the right data types allows these operations to be optimized by the underlying libraries (like BLAS or LAPACK), leading to significant speed improvements.\n",
    "Precision and Range:\n",
    "\n",
    "##### Accuracy of Calculations: \n",
    "Different data types offer different ranges and precision levels. For example, floating-point types (float32 vs. float64) have different precision, which can affect the outcome of calculations, particularly in iterative algorithms.\n",
    "Avoiding Overflow/Underflow: Using data types with appropriate ranges can help avoid issues like overflow or underflow in calculations.\n",
    "#### Interoperability:\n",
    "\n",
    "##### Compatibility with Other Libraries:\n",
    "Different Python libraries expect specific data types. Using the correct type ensures smooth integration and compatibility when passing data between libraries, such as NumPy, Pandas, or machine learning frameworks.\n",
    "### Summary\n",
    "In summary, you can determine the data type of elements in a NumPy array using the .dtype attribute. The importance of data types extends to efficient memory management, performance optimization, accuracy in calculations, and interoperability with other libraries. Choosing the appropriate data type is crucial for maximizing the efficiency and effectiveness of your numerical computations in Python.\n",
    "\n",
    "\n",
    "\n"
   ]
  },
  {
   "cell_type": "markdown",
   "id": "17e30bda-2fb6-4fb8-8a6b-313fa9c27751",
   "metadata": {},
   "source": [
    "### Que 5. Define ndarrays in NumPy and explain their key features. How do they differ from standard Python lists?"
   ]
  },
  {
   "cell_type": "markdown",
   "id": "da1c1daa-d94b-43fd-9cb1-15170cea1f4d",
   "metadata": {},
   "source": [
    "### Answer\n",
    "In NumPy, ndarrays (n-dimensional arrays) are the core data structure used for numerical computations. They provide a way to store and manipulate large datasets efficiently. Here’s an overview of their key features and how they differ from standard Python lists.\n",
    "\n",
    "### Key Features of ndarrays\n",
    "#### Homogeneous Data Types:\n",
    "\n",
    "All elements in an ndarray must be of the same data type, which allows for more efficient memory usage and faster computations.\n",
    "#### Multi-dimensional Support:\n",
    "\n",
    "ndarrays can have any number of dimensions (1D, 2D, 3D, etc.), enabling complex data structures like matrices, tensors, and higher-dimensional arrays.\n",
    "#### Efficient Memory Layout:\n",
    "\n",
    "ndarrays use contiguous blocks of memory, which enhances performance during computations. This memory layout allows for efficient access and manipulation of elements.\n",
    "#### Vectorized Operations:\n",
    "\n",
    "NumPy allows for element-wise operations on ndarrays, meaning you can perform arithmetic operations on entire arrays without writing explicit loops. This leads to concise and efficient code.\n",
    "#### Broadcasting:\n",
    "\n",
    "Broadcasting is a powerful feature that allows NumPy to perform operations on arrays of different shapes, expanding smaller arrays as needed to match the dimensions of larger ones.\n",
    "#### Rich Functionality:\n",
    "\n",
    "NumPy provides a vast array of built-in functions for mathematical operations, linear algebra, statistics, and more, making it a comprehensive library for scientific computing.\n",
    "#### Indexing and Slicing:\n",
    "\n",
    "ndarrays support advanced indexing and slicing techniques, enabling flexible data manipulation and extraction.\n",
    "Integration with Other Libraries:\n",
    "\n",
    "ndarrays serve as the foundation for many other scientific libraries in Python, such as SciPy, Pandas, and Matplotlib, facilitating seamless data analysis and visualization.\n",
    "### Differences from Standard Python Lists\n",
    "#### Data Type Consistency:\n",
    "\n",
    "#### ndarrays: \n",
    "All elements must be of the same type (e.g., all integers or all floats).\n",
    "#### Python Lists: \n",
    "Can contain elements of different types (e.g., integers, floats, strings).\n",
    "### Performance:\n",
    "\n",
    "#### ndarrays: \n",
    "More memory-efficient and faster for numerical operations due to their contiguous memory layout and optimized performance for vectorized operations.\n",
    "#### Python Lists: \n",
    "Generally slower for numerical computations, as they are not optimized for such operations and require more memory overhead for heterogeneous data.\n",
    "#### Dimensionality:\n",
    "\n",
    "#### ndarrays: \n",
    "Can easily represent multi-dimensional data structures (e.g., 2D matrices, 3D tensors).\n",
    "#### Python Lists: \n",
    "Can represent multi-dimensional data, but this often requires nesting lists (e.g., a list of lists) and is less efficient and convenient for mathematical operations.\n",
    "#### Functionality:\n",
    "\n",
    "#### ndarrays: \n",
    "Equipped with a rich set of functions for mathematical and statistical operations, making them suitable for scientific computing.\n",
    "#### Python Lists: \n",
    "Lack specialized numerical operations; you need to implement such functionality manually or use external libraries.\n",
    "### Example Comparison\n",
    "Using a Python List"
   ]
  },
  {
   "cell_type": "code",
   "execution_count": 14,
   "id": "bc520979-57a8-4ffa-a34e-1dcb98093417",
   "metadata": {},
   "outputs": [
    {
     "name": "stdout",
     "output_type": "stream",
     "text": [
      "[2, 3, 4, 5]\n"
     ]
    }
   ],
   "source": [
    "# Python list\n",
    "py_list = [1, 2, 3, 4]\n",
    "# Adding 1 to each element requires a loop\n",
    "py_list_incremented = [x + 1 for x in py_list]\n",
    "print(py_list_incremented)"
   ]
  },
  {
   "cell_type": "markdown",
   "id": "42e2f997-4ca9-4915-93ce-509ef386acdb",
   "metadata": {},
   "source": [
    "Using a NumPy ndarray"
   ]
  },
  {
   "cell_type": "code",
   "execution_count": 15,
   "id": "31a7dfed-ab17-4be2-b185-e5edf03cf594",
   "metadata": {},
   "outputs": [
    {
     "name": "stdout",
     "output_type": "stream",
     "text": [
      "[2 3 4 5]\n"
     ]
    }
   ],
   "source": [
    "import numpy as np\n",
    "\n",
    "# NumPy ndarray\n",
    "np_array = np.array([1, 2, 3, 4])\n",
    "# Adding 1 to each element using vectorization\n",
    "np_array_incremented = np_array + 1\n",
    "print(np_array_incremented) "
   ]
  },
  {
   "cell_type": "markdown",
   "id": "8d0876e3-2b6b-4f29-bf75-8f82a76f9ca2",
   "metadata": {},
   "source": [
    "### Summary\n",
    "In summary, ndarrays are powerful, multi-dimensional arrays in NumPy that provide significant advantages over standard Python lists for numerical computations. They ensure homogeneous data types, efficient memory usage, and support for advanced mathematical operations, making them essential for scientific computing and data analysis.\n",
    "\n",
    "\n",
    "\n"
   ]
  },
  {
   "cell_type": "markdown",
   "id": "21fc6d0e-3df7-437e-9ae3-1b3ad1bbeb86",
   "metadata": {},
   "source": [
    "### Que 6. Analyze the performance benefits of NumPy arrays over Python lists for large-scale numerical operations."
   ]
  },
  {
   "cell_type": "markdown",
   "id": "e5483d63-ad3a-4ed9-a10f-211f6d447888",
   "metadata": {},
   "source": [
    "### Answer\n",
    "NumPy arrays offer several performance benefits over standard Python lists, particularly for large-scale numerical operations. Here are the key advantages that contribute to improved performance:\n",
    "\n",
    "### 1. Contiguous Memory Allocation\n",
    "Memory Layout: NumPy arrays are stored in contiguous blocks of memory. This layout enhances cache coherence and allows for more efficient access patterns compared to Python lists, which store references to objects scattered in memory.\n",
    "Lower Overhead: Each element in a NumPy array is stored in a fixed-size format, leading to lower memory overhead compared to Python lists, which store pointers to objects.\n",
    "### 2. Homogeneous Data Types\n",
    "Type Consistency: NumPy arrays require all elements to be of the same data type, which allows for optimized memory usage and faster computation. Python lists can contain mixed data types, leading to additional overhead when accessing and manipulating elements.\n",
    "Type-Specific Operations: Operations on homogeneous data types can be optimized at a low level, resulting in faster execution.\n",
    "### 3. Vectorized Operations\n",
    "Element-Wise Operations: NumPy allows for vectorized operations, meaning you can perform arithmetic and mathematical operations on entire arrays without explicit loops. This reduces the overhead of Python’s interpreted loops and leverages optimized C and Fortran libraries.\n",
    "Performance Gains: Vectorization can lead to significant performance improvements—operations on large datasets can be several times faster than equivalent operations on Python lists.\n",
    "### 4. Broadcasting\n",
    "Flexible Operations: NumPy's broadcasting rules allow operations on arrays of different shapes without the need for explicit replication of data. This feature simplifies code and avoids the memory overhead associated with creating temporary arrays.\n",
    "Efficiency: Broadcasting minimizes the need for additional memory allocation and copying, which is particularly beneficial when dealing with large datasets.\n",
    "### 5. Optimized Functions\n",
    "Built-in Mathematical Functions: NumPy provides a wide range of optimized functions for mathematical operations (e.g., linear algebra, statistics, Fourier transforms). These functions are implemented in low-level languages like C and are optimized for performance.\n",
    "Avoiding Python Overhead: By using these functions, you can avoid the overhead associated with Python function calls and loops.\n",
    "### 6. Parallelism and Multithreading\n",
    "Internal Optimization: Many NumPy operations are internally optimized to take advantage of parallel processing capabilities of modern CPUs. Libraries like BLAS and LAPACK, which NumPy relies on for linear algebra operations, often use multithreading to speed up computations.\n",
    "Scalability: This means that as your data scales, NumPy can leverage the hardware capabilities more effectively than Python lists.\n",
    "### 7. Efficient I/O Operations\n",
    "File Handling: NumPy offers efficient methods for reading from and writing to files (e.g., using np.loadtxt() or np.save()), which are faster than iterating through Python lists and performing I/O operations.\n",
    "### Example Comparison\n",
    "Here's a simple example that highlights the performance difference when summing large datasets:"
   ]
  },
  {
   "cell_type": "code",
   "execution_count": 16,
   "id": "1b70cce3-ba61-41ae-8034-691233671f53",
   "metadata": {},
   "outputs": [
    {
     "name": "stdout",
     "output_type": "stream",
     "text": [
      "NumPy sum: -2014260032\n",
      "NumPy execution time: 0.0\n",
      "Python list sum: 49999995000000\n",
      "Python list execution time: 0.5576517581939697\n"
     ]
    }
   ],
   "source": [
    "import numpy as np\n",
    "import time\n",
    "\n",
    "# Create a large array\n",
    "size = 10**7\n",
    "\n",
    "# Using NumPy\n",
    "np_array = np.arange(size)\n",
    "start_time = time.time()\n",
    "np_sum = np.sum(np_array)\n",
    "print(\"NumPy sum:\", np_sum)\n",
    "print(\"NumPy execution time:\", time.time() - start_time)\n",
    "\n",
    "# Using Python list\n",
    "py_list = list(range(size))\n",
    "start_time = time.time()\n",
    "py_sum = sum(py_list)\n",
    "print(\"Python list sum:\", py_sum)\n",
    "print(\"Python list execution time:\", time.time() - start_time)"
   ]
  },
  {
   "cell_type": "markdown",
   "id": "4c604ac9-f858-422e-9dc0-04f6148c2f6e",
   "metadata": {},
   "source": [
    "In this example, you would typically observe that the NumPy array sum is significantly faster than the Python list sum due to the reasons outlined above.\n",
    "\n",
    "### Summary\n",
    "In summary, the performance benefits of NumPy arrays over Python lists for large-scale numerical operations include contiguous memory allocation, homogeneous data types, vectorized operations, broadcasting, optimized built-in functions, and efficient I/O handling. These advantages make NumPy a crucial tool for scientific computing, data analysis, and any application requiring efficient numerical computation."
   ]
  },
  {
   "cell_type": "markdown",
   "id": "d8d091f4-9b6f-4c07-a37f-f79d35126ee3",
   "metadata": {},
   "source": [
    "### Que 7. Compare vstack() and hstack() functions in NumPy. Provide examples demonstrating their usage and output.."
   ]
  },
  {
   "cell_type": "markdown",
   "id": "5c09cf4b-5470-423e-a55d-afff182d414f",
   "metadata": {},
   "source": [
    "### Answer \n",
    "In NumPy, vstack() and hstack() are functions used to stack arrays vertically and horizontally, respectively. Here's a detailed comparison along with examples demonstrating their usage.\n",
    "\n",
    "numpy.vstack()\n",
    "##### Purpose: \n",
    "Stacks arrays in sequence vertically (row-wise).\n",
    "##### Input: \n",
    "Arrays must have the same number of columns.\n",
    "\n",
    "Example of vstack()"
   ]
  },
  {
   "cell_type": "code",
   "execution_count": 1,
   "id": "1003e4a8-1b9b-46f0-9e1d-c7dc93353377",
   "metadata": {},
   "outputs": [
    {
     "name": "stdout",
     "output_type": "stream",
     "text": [
      "Result of vstack:\n",
      "[[ 1  2  3]\n",
      " [ 4  5  6]\n",
      " [ 7  8  9]\n",
      " [10 11 12]]\n"
     ]
    }
   ],
   "source": [
    "import numpy as np\n",
    "\n",
    "# Create two 2D arrays\n",
    "arr1 = np.array([[1, 2, 3],\n",
    "                 [4, 5, 6]])\n",
    "\n",
    "arr2 = np.array([[7, 8, 9],\n",
    "                 [10, 11, 12]])\n",
    "\n",
    "# Stack the arrays vertically\n",
    "result_vstack = np.vstack((arr1, arr2))\n",
    "\n",
    "print(\"Result of vstack:\")\n",
    "print(result_vstack)"
   ]
  },
  {
   "cell_type": "markdown",
   "id": "71b7f6ba-58b1-4750-9548-deb92daee555",
   "metadata": {},
   "source": [
    "numpy.hstack()\n",
    "##### Purpose: \n",
    "Stacks arrays in sequence horizontally (column-wise).\n",
    "##### Input: \n",
    "Arrays must have the same number of rows.\n",
    "\n",
    "Example of hstack()"
   ]
  },
  {
   "cell_type": "code",
   "execution_count": 18,
   "id": "773b35ad-df63-49f3-a0ca-1fe5e279ca61",
   "metadata": {},
   "outputs": [
    {
     "name": "stdout",
     "output_type": "stream",
     "text": [
      "Result of hstack:\n",
      "[[ 1  2  3  7  8  9]\n",
      " [ 4  5  6 10 11 12]]\n"
     ]
    }
   ],
   "source": [
    "# Stack the arrays horizontally\n",
    "result_hstack = np.hstack((arr1, arr2))\n",
    "\n",
    "print(\"Result of hstack:\")\n",
    "print(result_hstack)"
   ]
  },
  {
   "cell_type": "markdown",
   "id": "e7de0a2a-cbf6-4ef4-95c8-f848e0d7ccda",
   "metadata": {},
   "source": [
    "### Summary of Differences\n",
    "Orientation:\n",
    "\n",
    "vstack(): Stacks arrays vertically, increasing the number of rows.\n",
    "\n",
    "hstack(): Stacks arrays horizontally, increasing the number of columns.\n",
    "\n",
    "Input Requirements:\n",
    "\n",
    "For vstack(): Arrays must have the same number of columns.\n",
    "\n",
    "For hstack(): Arrays must have the same number of rows.\n",
    "\n",
    "These functions are particularly useful for assembling datasets and organizing data into a desired shape for further analysis or manipulation."
   ]
  },
  {
   "cell_type": "markdown",
   "id": "8bb94c52-cfe2-4d91-86f4-184fbdfb7b94",
   "metadata": {},
   "source": [
    "### Que 8. Explain the differences between fliplr() and flipud() methods in NumPy, including their effects on various array dimensions.\r",
    "."
   ]
  },
  {
   "cell_type": "markdown",
   "id": "fedab73e-a611-4e82-8f0d-de85d22ff58d",
   "metadata": {},
   "source": [
    "### Answer\n",
    "In NumPy, the fliplr() and flipud() methods are used to flip arrays along specific axes, but they differ in the direction of the flipping. Here’s a detailed explanation of each method, including their effects on various array dimensions.\n",
    "\n",
    "numpy.fliplr()\n",
    "##### Purpose: \n",
    "Flips an array left to right (horizontally).\n",
    "##### Effect: \n",
    "It reverses the order of the columns in a 2D array, effectively flipping it along the vertical axis.\n",
    "##### Applicable Dimensions: \n",
    "Primarily used with 2D arrays, but can also be applied to higher-dimensional arrays by treating each 2D slice independently.\n",
    "\n",
    "Example of fliplr()"
   ]
  },
  {
   "cell_type": "code",
   "execution_count": 19,
   "id": "df1f8f69-2dc3-4469-8fa2-380edc0bc6f7",
   "metadata": {},
   "outputs": [
    {
     "name": "stdout",
     "output_type": "stream",
     "text": [
      "Original array:\n",
      "[[1 2 3]\n",
      " [4 5 6]\n",
      " [7 8 9]]\n",
      "\n",
      "Flipped left to right:\n",
      "[[3 2 1]\n",
      " [6 5 4]\n",
      " [9 8 7]]\n"
     ]
    }
   ],
   "source": [
    "import numpy as np\n",
    "\n",
    "# Create a 2D array\n",
    "arr_2d = np.array([[1, 2, 3],\n",
    "                   [4, 5, 6],\n",
    "                   [7, 8, 9]])\n",
    "\n",
    "# Flip the array left to right\n",
    "flipped_lr = np.fliplr(arr_2d)\n",
    "\n",
    "print(\"Original array:\")\n",
    "print(arr_2d)\n",
    "print(\"\\nFlipped left to right:\")\n",
    "print(flipped_lr)"
   ]
  },
  {
   "cell_type": "markdown",
   "id": "85a5484d-346d-4351-a700-aa009c337a44",
   "metadata": {},
   "source": [
    "numpy.flipud()\n",
    "##### Purpose: \n",
    "Flips an array up to down (vertically).\n",
    "##### Effect: \n",
    "It reverses the order of the rows in a 2D array, effectively flipping it along the horizontal axis.\n",
    "##### Applicable Dimensions: \n",
    "Primarily used with 2D arrays, but can also be applied to higher-dimensional arrays by treating each 2D slice independently.\n",
    "\n",
    "Example of flipud()"
   ]
  },
  {
   "cell_type": "code",
   "execution_count": 20,
   "id": "6cca4650-f40f-41b5-a293-fd56c87c76af",
   "metadata": {},
   "outputs": [
    {
     "name": "stdout",
     "output_type": "stream",
     "text": [
      "\n",
      "Flipped up to down:\n",
      "[[7 8 9]\n",
      " [4 5 6]\n",
      " [1 2 3]]\n"
     ]
    }
   ],
   "source": [
    "# Flip the array up to down\n",
    "flipped_ud = np.flipud(arr_2d)\n",
    "\n",
    "print(\"\\nFlipped up to down:\")\n",
    "print(flipped_ud)"
   ]
  },
  {
   "cell_type": "markdown",
   "id": "c55aaec6-9f84-44bd-9634-2bce2cb1100c",
   "metadata": {},
   "source": [
    "### Summary of Differences\n",
    "#### Direction of Flipping:\n",
    "\n",
    "##### fliplr(): \n",
    "Flips the array horizontally (left to right), affecting the columns.\n",
    "##### flipud(): \n",
    "Flips the array vertically (up to down), affecting the rows.\n",
    "##### Effect on Array Dimensions:\n",
    "\n",
    "#### 2D Arrays:\n",
    "fliplr() reverses the columns of the array.\n",
    "\n",
    "flipud() reverses the rows of the array.\n",
    "\n",
    "##### Higher-Dimensional Arrays: \n",
    "Both functions can be applied, but they operate independently on each 2D slice within the higher-dimensional structure.\n",
    "\n",
    "### Conclusion\n",
    "In summary, np.fliplr() and np.flipud() are useful for manipulating the orientation of arrays. Understanding their effects is important for data preprocessing and transformation tasks in numerical computing."
   ]
  },
  {
   "cell_type": "markdown",
   "id": "e36fca88-5982-426e-9d64-e33beda63454",
   "metadata": {},
   "source": [
    "### Que 9. Discuss the functionality of the array_split() method in NumPy. How does it handle uneven splits?"
   ]
  },
  {
   "cell_type": "markdown",
   "id": "02105889-2adf-49a3-b143-2d8370c4a9b3",
   "metadata": {},
   "source": [
    "### Answer\n",
    "The array_split() method in NumPy is used to split an array into multiple sub-arrays along a specified axis. It is particularly useful when you need to divide a large dataset into smaller, more manageable chunks.\n",
    "\n",
    "Key Features of array_split()\n",
    "##### \n",
    "Flexible Splitting:\n",
    "\n",
    "You can specify the number of splits or the indices at which to split the array.\n",
    "##### \n",
    "Handles Uneven Splits:\n",
    "\n",
    "Unlike the split() method, which requires the splits to be evenly sized, array_split() allows for uneven splits. If the array cannot be evenly divided, the remaining elements are distributed among the resulting sub-arrays.\n",
    "##### Axis Specification:\n",
    "\n",
    "You can specify the axis along which to split the array. The default is the first axis (0).\n",
    "\n",
    "#### Function Signature"
   ]
  },
  {
   "cell_type": "markdown",
   "id": "406a30a7-6d21-44ac-9a91-afac073435a7",
   "metadata": {},
   "source": [
    "numpy.array_split(ary, indices_or_sections, axis=0)"
   ]
  },
  {
   "cell_type": "markdown",
   "id": "2e03700f-1bfc-4250-9be3-f8ad95acaafc",
   "metadata": {},
   "source": [
    "##### ary: \n",
    "The array to be split.\n",
    "##### indices_or_sections: \n",
    "Either the number of sections to split into or the indices at which to split the array.\n",
    "##### axis: \n",
    "The axis along which to split (default is 0).\n",
    "#### Examples\n",
    "#### Example 1: \n",
    "Even Splits"
   ]
  },
  {
   "cell_type": "code",
   "execution_count": 22,
   "id": "114a5fa7-1d3e-479f-9e32-25b75e9646cd",
   "metadata": {},
   "outputs": [
    {
     "name": "stdout",
     "output_type": "stream",
     "text": [
      "Split into 3 parts:\n",
      "[1 2 3]\n",
      "[4 5 6]\n",
      "[7 8 9]\n"
     ]
    }
   ],
   "source": [
    "import numpy as np\n",
    "\n",
    "arr = np.array([1, 2, 3, 4, 5, 6, 7, 8, 9])\n",
    "\n",
    "# Split into 3 equal parts\n",
    "split_even = np.array_split(arr, 3)\n",
    "\n",
    "print(\"Split into 3 parts:\")\n",
    "for part in split_even:\n",
    "    print(part)"
   ]
  },
  {
   "cell_type": "markdown",
   "id": "8121a543-5e98-4e6a-8fef-31aa15aab272",
   "metadata": {},
   "source": [
    "#### Example 2: \n",
    "Uneven Splits"
   ]
  },
  {
   "cell_type": "code",
   "execution_count": 24,
   "id": "e40e0d51-7199-4b5a-8e26-bbddcc18c643",
   "metadata": {},
   "outputs": [
    {
     "name": "stdout",
     "output_type": "stream",
     "text": [
      "\n",
      "Split into 4 parts:\n",
      "[1 2 3]\n",
      "[4 5]\n",
      "[6 7]\n",
      "[8 9]\n"
     ]
    }
   ],
   "source": [
    "# Split into 4 parts\n",
    "split_uneven = np.array_split(arr, 4)\n",
    "\n",
    "print(\"\\nSplit into 4 parts:\")\n",
    "for part in split_uneven:\n",
    "    print(part)"
   ]
  },
  {
   "cell_type": "markdown",
   "id": "dfb058be-0578-4e94-8a8a-7fa5c9fd1167",
   "metadata": {},
   "source": [
    "#### Explanation of Uneven Splits\n",
    "In the second example, when we attempt to split the array into 4 parts, NumPy divides the array as evenly as possible:\n",
    "\n",
    "The first sub-array gets 3 elements.\n",
    "The second and third sub-arrays get 2 elements each.\n",
    "The last sub-array gets the remaining elements.\n",
    "This functionality is particularly useful in data preprocessing tasks where datasets may not be evenly divisible, allowing for flexible handling of such cases.\n",
    "\n",
    "### Summary\n",
    "The array_split() method in NumPy is a powerful tool for dividing arrays into sub-arrays, with the ability to handle uneven splits gracefully. This flexibility makes it suitable for various applications in data analysis and manipulation, enabling efficient data handling regardless of the original array size.\n",
    "\n",
    "\n",
    "\n"
   ]
  },
  {
   "cell_type": "markdown",
   "id": "d22fafc3-4911-447f-8ae2-100457ff254a",
   "metadata": {},
   "source": [
    "### Que 10. Explain the concepts of vectorization and broadcasting in NumPy. How do they contribute to efficient array operations?"
   ]
  },
  {
   "cell_type": "markdown",
   "id": "7da22113-7a42-4068-84ab-af858c858693",
   "metadata": {},
   "source": [
    "### Answer\n",
    "Vectorization and broadcasting are two fundamental concepts in NumPy that significantly enhance the efficiency and performance of array operations. Here’s an overview of each concept and their contributions to efficient computing.\n",
    "\n",
    "#### Vectorization\n",
    "##### Definition: \n",
    "Vectorization refers to the process of applying operations to entire arrays (or large chunks of data) rather than using explicit loops to process individual elements. This is possible in NumPy because it leverages highly optimized C and Fortran libraries for numerical computations, allowing operations to be performed at a lower level.\n",
    "\n",
    "#### Benefits:\n",
    "\n",
    "##### Performance Improvement: \n",
    "Vectorized operations are typically much faster than their loop-based counterparts due to lower overhead from Python's interpreted nature.\n",
    "##### Cleaner Code: \n",
    "Vectorization leads to more concise and readable code, reducing the likelihood of errors that may occur in complex looping structures.\n",
    "##### Parallelism: \n",
    "Many vectorized operations can be parallelized, taking advantage of modern CPU architectures and multi-threading, further enhancing performance.\n",
    "##### Example: \n",
    "Instead of using a loop to add two arrays element-wise, you can directly use vectorized operations:"
   ]
  },
  {
   "cell_type": "code",
   "execution_count": 25,
   "id": "8bdb3049-850e-4746-bb64-d75405a2ff9e",
   "metadata": {},
   "outputs": [],
   "source": [
    "import numpy as np\n",
    "\n",
    "# Create two large arrays\n",
    "a = np.arange(1, 1000001)\n",
    "b = np.arange(1000000, 0, -1)\n",
    "\n",
    "# Vectorized addition\n",
    "c = a + b"
   ]
  },
  {
   "cell_type": "markdown",
   "id": "8e9b58a1-a5d8-40b1-8d58-822d922a4ca0",
   "metadata": {},
   "source": [
    "In this example, a + b is a vectorized operation that adds the two arrays element-wise without the need for a loop.\n",
    "\n",
    "#### Broadcasting\n",
    "##### Definition: \n",
    "Broadcasting is a powerful mechanism that allows NumPy to perform arithmetic operations on arrays of different shapes. It automatically expands the smaller array(s) to match the shape of the larger array during operations.\n",
    "\n",
    "##### How It Works: \n",
    "When performing operations on arrays with different shapes:\n",
    "\n",
    "NumPy compares the dimensions of the two arrays.\n",
    "If the dimensions are not the same, NumPy \"stretches\" the smaller array along the axis with fewer dimensions by repeating its elements to match the shape of the larger array.\n",
    "The operation is then applied element-wise.\n",
    "#### Benefits:\n",
    "\n",
    "##### Flexible Array Operations: \n",
    "Broadcasting allows for operations between arrays of different shapes without the need to manually reshape or replicate data.\n",
    "##### Memory Efficiency: \n",
    "Instead of creating large intermediate arrays, broadcasting efficiently uses the existing smaller arrays, reducing memory overhead.\n",
    "#### Example:"
   ]
  },
  {
   "cell_type": "code",
   "execution_count": 26,
   "id": "f19ecef6-2deb-40b4-8081-8f809755962a",
   "metadata": {},
   "outputs": [
    {
     "name": "stdout",
     "output_type": "stream",
     "text": [
      "[[11 22 33]\n",
      " [14 25 36]]\n"
     ]
    }
   ],
   "source": [
    "# Create a 2D array and a 1D array\n",
    "a = np.array([[1, 2, 3],\n",
    "              [4, 5, 6]])\n",
    "\n",
    "b = np.array([10, 20, 30])\n",
    "\n",
    "# Broadcasting addition\n",
    "result = a + b\n",
    "\n",
    "print(result)"
   ]
  },
  {
   "cell_type": "markdown",
   "id": "801ecdc9-cc6c-46d8-bc19-6976f3888c32",
   "metadata": {},
   "source": [
    "In this example, the 1D array b is broadcasted to match the shape of the 2D array a, allowing for element-wise addition.\n",
    "\n",
    "### Summary of Contributions to Efficient Array Operations\n",
    "##### Speed: \n",
    "Vectorization allows for faster computations by minimizing the overhead of Python loops and taking advantage of low-level optimizations.\n",
    "##### Simplicity: \n",
    "Both vectorization and broadcasting enable cleaner, more readable code, making it easier to implement complex operations without cumbersome syntax.\n",
    "##### Reduced Memory Usage: \n",
    "Broadcasting minimizes the need for creating large temporary arrays, which conserves memory and speeds up operations.\n",
    "\n",
    "Together, vectorization and broadcasting make NumPy a powerful tool for scientific computing, enabling efficient and flexible manipulation of large datasets. These features are essential for tasks in data analysis, machine learning, and numerical simulations."
   ]
  },
  {
   "cell_type": "markdown",
   "id": "1cefc9f8-6f19-4eae-9a55-db50453101df",
   "metadata": {},
   "source": [
    "## Practical Questions:"
   ]
  },
  {
   "cell_type": "markdown",
   "id": "97cf73d5-c539-46e3-9c15-4bdd8ce3db53",
   "metadata": {},
   "source": [
    "### Que 1. Create a 3x3 NumPy array with random integers between 1 and 100. Then, interchange its rows and columns."
   ]
  },
  {
   "cell_type": "markdown",
   "id": "3b152004-6780-4fd1-902f-546f46aa752e",
   "metadata": {},
   "source": [
    "### Answer\n",
    "You can create a 3x3 NumPy array with random integers between 1 and 100 and then interchange its rows and columns using the numpy.random.randint() function and the numpy.transpose() method or the .T attribute. Here’s how you can do it:\n",
    "\n",
    "### Step-by-Step Code"
   ]
  },
  {
   "cell_type": "code",
   "execution_count": 2,
   "id": "1c492cc7-a28a-4f64-ace5-0a8dce6eb5c2",
   "metadata": {},
   "outputs": [
    {
     "name": "stdout",
     "output_type": "stream",
     "text": [
      "Original array:\n",
      "[[41 61  2]\n",
      " [74 55 85]\n",
      " [86 47 67]]\n",
      "\n",
      "Transposed array:\n",
      "[[41 74 86]\n",
      " [61 55 47]\n",
      " [ 2 85 67]]\n"
     ]
    }
   ],
   "source": [
    "import numpy as np\n",
    "\n",
    "# Create a 3x3 array with random integers between 1 and 100\n",
    "array_3x3 = np.random.randint(1, 101, size=(3, 3))\n",
    "print(\"Original array:\")\n",
    "print(array_3x3)\n",
    "\n",
    "# Interchange rows and columns (transpose the array)\n",
    "transposed_array = array_3x3.T\n",
    "print(\"\\nTransposed array:\")\n",
    "print(transposed_array)"
   ]
  },
  {
   "cell_type": "markdown",
   "id": "d5abd5cd-ecbd-4ad9-a9de-9ed4cb394e28",
   "metadata": {},
   "source": [
    "### Explanation\n",
    "##### np.random.randint(1, 101, size=(3, 3)): \n",
    "This function generates a 3x3 array of random integers between 1 and 100.\n",
    "##### array_3x3.T: \n",
    "This is the transposition operation that interchanges rows and columns of the original array. You can also use np.transpose(array_3x3) for the same effect.\n",
    "You now have a 3x3 NumPy array with its rows and columns interchanged!"
   ]
  },
  {
   "cell_type": "markdown",
   "id": "bdff36da-a70a-4f37-8182-16229ad8b8ac",
   "metadata": {},
   "source": [
    "### Que 2. Generate a 1D NumPy array with 10 elements. Reshape it into a 2x5 array, then into a 5x2 array."
   ]
  },
  {
   "cell_type": "markdown",
   "id": "e0ffcbfc-1c02-4645-b1a4-bab989452381",
   "metadata": {},
   "source": [
    "### Answer\n",
    "You can generate a 1D NumPy array with 10 elements and then reshape it into a 2x5 array and a 5x2 array using the numpy.reshape() method. Here’s how to do it step by step:\n",
    "\n",
    "### Step-by-Step Code"
   ]
  },
  {
   "cell_type": "code",
   "execution_count": 3,
   "id": "61902cbe-e2cd-4568-bb76-1276293a24f0",
   "metadata": {},
   "outputs": [
    {
     "name": "stdout",
     "output_type": "stream",
     "text": [
      "Original 1D array:\n",
      "[0 1 2 3 4 5 6 7 8 9]\n",
      "\n",
      "Reshaped into 2x5 array:\n",
      "[[0 1 2 3 4]\n",
      " [5 6 7 8 9]]\n",
      "\n",
      "Reshaped into 5x2 array:\n",
      "[[0 1]\n",
      " [2 3]\n",
      " [4 5]\n",
      " [6 7]\n",
      " [8 9]]\n"
     ]
    }
   ],
   "source": [
    "import numpy as np\n",
    "\n",
    "# Generate a 1D NumPy array with 10 elements\n",
    "array_1d = np.arange(10)  # Creates an array with values from 0 to 9\n",
    "print(\"Original 1D array:\")\n",
    "print(array_1d)\n",
    "\n",
    "# Reshape it into a 2x5 array\n",
    "array_2x5 = array_1d.reshape(2, 5)\n",
    "print(\"\\nReshaped into 2x5 array:\")\n",
    "print(array_2x5)\n",
    "\n",
    "# Reshape it into a 5x2 array\n",
    "array_5x2 = array_1d.reshape(5, 2)\n",
    "print(\"\\nReshaped into 5x2 array:\")\n",
    "print(array_5x2)"
   ]
  },
  {
   "cell_type": "markdown",
   "id": "7780394f-1f89-47e9-afcb-f53254dcdabb",
   "metadata": {},
   "source": [
    "### Explanation\n",
    "##### np.arange(10): \n",
    "This function generates a 1D array with values from 0 to 9.\n",
    "##### array_1d.reshape(2, 5): \n",
    "This reshapes the original 1D array into a 2x5 array.\n",
    "##### array_1d.reshape(5, 2): \n",
    "This reshapes the original 1D array into a 5x2 array.\n",
    "Reshaping is possible because the total number of elements remains constant (10 elements in total), and the new shape must be compatible with the original array's size."
   ]
  },
  {
   "cell_type": "markdown",
   "id": "4c66a9dc-7988-4a55-92e4-43a09bbb6d49",
   "metadata": {},
   "source": [
    "### Que 3. Create a 4x4 NumPy array with random float values. Add a border of zeros around it, resulting in a 6x6 array."
   ]
  },
  {
   "cell_type": "markdown",
   "id": "925d3d17-1483-4270-8463-9aed0b3d146b",
   "metadata": {},
   "source": [
    "### Answer\n",
    "You can create a 4x4 NumPy array with random float values and then add a border of zeros around it to create a 6x6 array using the numpy.pad() function. Here’s how to do it step by step:\n",
    "\n",
    "### Step-by-Step Code"
   ]
  },
  {
   "cell_type": "code",
   "execution_count": 4,
   "id": "8fe185ee-3747-4e26-82fd-41129f9ecdbc",
   "metadata": {},
   "outputs": [
    {
     "name": "stdout",
     "output_type": "stream",
     "text": [
      "Original 4x4 array:\n",
      "[[0.53277516 0.03181958 0.13918648 0.47239566]\n",
      " [0.06743509 0.32720059 0.25114418 0.03238935]\n",
      " [0.3489738  0.32163591 0.16721836 0.41629387]\n",
      " [0.99698153 0.72914658 0.03818786 0.50615591]]\n",
      "\n",
      "6x6 array with border of zeros:\n",
      "[[0.         0.         0.         0.         0.         0.        ]\n",
      " [0.         0.53277516 0.03181958 0.13918648 0.47239566 0.        ]\n",
      " [0.         0.06743509 0.32720059 0.25114418 0.03238935 0.        ]\n",
      " [0.         0.3489738  0.32163591 0.16721836 0.41629387 0.        ]\n",
      " [0.         0.99698153 0.72914658 0.03818786 0.50615591 0.        ]\n",
      " [0.         0.         0.         0.         0.         0.        ]]\n"
     ]
    }
   ],
   "source": [
    "import numpy as np\n",
    "\n",
    "# Create a 4x4 array with random float values\n",
    "array_4x4 = np.random.random((4, 4))\n",
    "print(\"Original 4x4 array:\")\n",
    "print(array_4x4)\n",
    "\n",
    "# Add a border of zeros around the array\n",
    "array_with_border = np.pad(array_4x4, pad_width=1, mode='constant', constant_values=0)\n",
    "print(\"\\n6x6 array with border of zeros:\")\n",
    "print(array_with_border)"
   ]
  },
  {
   "cell_type": "markdown",
   "id": "231c4ec3-7348-442d-8f34-1c50179d953f",
   "metadata": {},
   "source": [
    "### Explanation\n",
    "np.random.random((4, 4)): This function generates a 4x4 array filled with random float values between 0 and 1.\n",
    "np.pad(array_4x4, pad_width=1, mode='constant', constant_values=0): This adds a border of zeros around the original array. The pad_width=1 specifies that a border of 1 element should be added on all sides, mode='constant' indicates that the padding should be filled with a constant value, and constant_values=0 specifies that the constant value to use for padding is 0.\n",
    "\n",
    "This results in a 6x6 array with the original values in the center and a border of zeros surrounding them."
   ]
  },
  {
   "cell_type": "markdown",
   "id": "47d64681-1fa1-48fe-830b-ac4943f6fd5a",
   "metadata": {},
   "source": [
    "### Que 4. Using NumPy, create an array of integers from 10 to 60 with a step of 5"
   ]
  },
  {
   "cell_type": "markdown",
   "id": "f0110e75-beee-4a0e-b8f5-e82e62686817",
   "metadata": {},
   "source": [
    "### Answer\n",
    "You can create an array of integers from 10 to 60 with a step of 5 using the numpy.arange() function. Here’s how to do it:\n",
    "\n",
    "### Step-by-Step Code"
   ]
  },
  {
   "cell_type": "code",
   "execution_count": 5,
   "id": "4a043769-6442-4f85-b22e-2291a8f131ec",
   "metadata": {},
   "outputs": [
    {
     "name": "stdout",
     "output_type": "stream",
     "text": [
      "Array of integers from 10 to 60 with a step of 5:\n",
      "[10 15 20 25 30 35 40 45 50 55 60]\n"
     ]
    }
   ],
   "source": [
    "import numpy as np\n",
    "\n",
    "# Create an array of integers from 10 to 60 with a step of 5\n",
    "array_integers = np.arange(10, 61, 5)\n",
    "print(\"Array of integers from 10 to 60 with a step of 5:\")\n",
    "print(array_integers)"
   ]
  },
  {
   "cell_type": "markdown",
   "id": "3f989d5b-0c70-4fab-9576-957bd81c0b26",
   "metadata": {},
   "source": [
    "### Explanation\n",
    "np.arange(10, 61, 5): This function generates an array of integers starting from 10 up to (but not including) 61, incrementing by 5 at each step. Since we want to include 60 in the array, the endpoint is set to 61.\n",
    "\n",
    "This results in an array containing the integers: 10, 15, 20, 25, 30, 35, 40, 45, 50, 55, and 60."
   ]
  },
  {
   "cell_type": "markdown",
   "id": "29b99317-41a3-4c8d-b8b7-d6cbf65f4da3",
   "metadata": {},
   "source": [
    "### Que 5. Create a NumPy array of strings ['python', 'numpy', 'pandas']. Apply different case transformations (uppercase, lowercase, title case, etc.) to each element.\n"
   ]
  },
  {
   "cell_type": "markdown",
   "id": "4efc30f6-3fd8-435f-ad1e-cdb867213d23",
   "metadata": {},
   "source": [
    "### Answer\n",
    "You can create a NumPy array of strings and then apply various case transformations such as uppercase, lowercase, title case, and more using string methods available in NumPy. Here’s how to do it:\n",
    "\n",
    "### Step-by-Step Code"
   ]
  },
  {
   "cell_type": "code",
   "execution_count": 6,
   "id": "4ceaac8f-c7cf-4b4c-a5d3-5bcbcb538cd2",
   "metadata": {},
   "outputs": [
    {
     "name": "stdout",
     "output_type": "stream",
     "text": [
      "Original array:\n",
      "['python' 'numpy' 'pandas']\n",
      "\n",
      "Uppercase:\n",
      "['PYTHON' 'NUMPY' 'PANDAS']\n",
      "\n",
      "Lowercase:\n",
      "['python' 'numpy' 'pandas']\n",
      "\n",
      "Title case:\n",
      "['Python' 'Numpy' 'Pandas']\n",
      "\n",
      "Capitalize:\n",
      "['Python' 'Numpy' 'Pandas']\n"
     ]
    }
   ],
   "source": [
    "import numpy as np\n",
    "\n",
    "# Create a NumPy array of strings\n",
    "array_strings = np.array(['python', 'numpy', 'pandas'])\n",
    "\n",
    "# Apply different case transformations\n",
    "uppercase_array = np.char.upper(array_strings)\n",
    "lowercase_array = np.char.lower(array_strings)\n",
    "titlecase_array = np.char.title(array_strings)\n",
    "capitalize_array = np.char.capitalize(array_strings)\n",
    "\n",
    "# Display the results\n",
    "print(\"Original array:\")\n",
    "print(array_strings)\n",
    "\n",
    "print(\"\\nUppercase:\")\n",
    "print(uppercase_array)\n",
    "\n",
    "print(\"\\nLowercase:\")\n",
    "print(lowercase_array)\n",
    "\n",
    "print(\"\\nTitle case:\")\n",
    "print(titlecase_array)\n",
    "\n",
    "print(\"\\nCapitalize:\")\n",
    "print(capitalize_array)"
   ]
  },
  {
   "cell_type": "markdown",
   "id": "3d6514d2-8c8c-4296-bbb6-3c17845ab4ac",
   "metadata": {},
   "source": [
    "### Explanation\n",
    "##### np.char.upper(array_strings): \n",
    "Converts all elements of the array to uppercase.\n",
    "##### np.char.lower(array_strings): \n",
    "Converts all elements of the array to lowercase.\n",
    "##### np.char.title(array_strings): \n",
    "Converts each element to title case (first letter capitalized).\n",
    "##### np.char.capitalize(array_strings): \n",
    "Capitalizes the first letter of each element while making the rest lowercase.\n",
    "\n",
    "These transformations showcase the flexibility of handling string data in NumPy using its character operations."
   ]
  },
  {
   "cell_type": "markdown",
   "id": "ef0bd705-f663-45b4-bff2-cfc515f1f009",
   "metadata": {},
   "source": [
    "### Que 6. Generate a NumPy array of words. Insert a space between each character of every word in the array."
   ]
  },
  {
   "cell_type": "markdown",
   "id": "6c75df4b-b62e-4187-ba5f-518637bf58e5",
   "metadata": {},
   "source": [
    "### Answer\n",
    "You can generate a NumPy array of words and then insert a space between each character of every word using NumPy's string operations. Here’s how to do it:\n",
    "\n",
    "### Step-by-Step Code"
   ]
  },
  {
   "cell_type": "code",
   "execution_count": 8,
   "id": "ee1d84f9-15f1-4108-85bd-8b1dfe496dfb",
   "metadata": {},
   "outputs": [
    {
     "name": "stdout",
     "output_type": "stream",
     "text": [
      "Original array:\n",
      "['hello' 'world' 'numpy' 'python']\n",
      "\n",
      "Words with spaces between characters:\n",
      "h e l l o\n",
      "w o r l d\n",
      "n u m p y\n",
      "p y t h o n\n"
     ]
    }
   ],
   "source": [
    "import numpy as np\n",
    "\n",
    "# Create a NumPy array of words\n",
    "array_words = np.array(['hello', 'world', 'numpy', 'python'])\n",
    "\n",
    "# Insert a space between each character of every word\n",
    "spaced_words = np.char.join(' ', array_words)\n",
    "\n",
    "# Display the results\n",
    "print(\"Original array:\")\n",
    "print(array_words)\n",
    "\n",
    "print(\"\\nWords with spaces between characters:\")\n",
    "for word in spaced_words:\n",
    "    print(word)"
   ]
  },
  {
   "cell_type": "markdown",
   "id": "0b9c8c48-f0e7-4260-80a9-dfa16e336dd3",
   "metadata": {},
   "source": [
    "### Explanation\n",
    "np.array(['hello', 'world', 'numpy', 'python']): This creates a NumPy array of words.\n",
    "np.char.join(' ', array_words): This method joins each character of the words with a space. Each word in the array is treated as a string, and the space character is inserted between each character.\n",
    "\n",
    "The result is an array where each word has spaces between its characters, making it easy to read."
   ]
  },
  {
   "cell_type": "markdown",
   "id": "3514dce6-a710-46aa-ad5f-4cddb897d175",
   "metadata": {},
   "source": [
    "### Que 7. Create two 2D NumPy arrays and perform element-wise addition, subtraction, multiplication, and division."
   ]
  },
  {
   "cell_type": "markdown",
   "id": "dc7c9fd2-0f3c-4dfa-834d-338501b05537",
   "metadata": {},
   "source": [
    "### Answer\n",
    "You can create two 2D NumPy arrays and then perform element-wise operations such as addition, subtraction, multiplication, and division. Here’s how to do it step by step:\n",
    "\n",
    "### Step-by-Step Code"
   ]
  },
  {
   "cell_type": "code",
   "execution_count": 9,
   "id": "9959dec7-8c1a-43da-bcbe-3960297a9eec",
   "metadata": {},
   "outputs": [
    {
     "name": "stdout",
     "output_type": "stream",
     "text": [
      "Array 1:\n",
      "[[1 2 3]\n",
      " [4 5 6]]\n",
      "\n",
      "Array 2:\n",
      "[[10 20 30]\n",
      " [40 50 60]]\n",
      "\n",
      "Element-wise Addition:\n",
      "[[11 22 33]\n",
      " [44 55 66]]\n",
      "\n",
      "Element-wise Subtraction:\n",
      "[[ -9 -18 -27]\n",
      " [-36 -45 -54]]\n",
      "\n",
      "Element-wise Multiplication:\n",
      "[[ 10  40  90]\n",
      " [160 250 360]]\n",
      "\n",
      "Element-wise Division:\n",
      "[[0.1 0.1 0.1]\n",
      " [0.1 0.1 0.1]]\n"
     ]
    }
   ],
   "source": [
    "import numpy as np\n",
    "\n",
    "# Create two 2D NumPy arrays\n",
    "array1 = np.array([[1, 2, 3],\n",
    "                   [4, 5, 6]])\n",
    "\n",
    "array2 = np.array([[10, 20, 30],\n",
    "                   [40, 50, 60]])\n",
    "\n",
    "# Perform element-wise addition\n",
    "addition = array1 + array2\n",
    "\n",
    "# Perform element-wise subtraction\n",
    "subtraction = array1 - array2\n",
    "\n",
    "# Perform element-wise multiplication\n",
    "multiplication = array1 * array2\n",
    "\n",
    "# Perform element-wise division\n",
    "division = array1 / array2\n",
    "\n",
    "# Display the results\n",
    "print(\"Array 1:\")\n",
    "print(array1)\n",
    "\n",
    "print(\"\\nArray 2:\")\n",
    "print(array2)\n",
    "\n",
    "print(\"\\nElement-wise Addition:\")\n",
    "print(addition)\n",
    "\n",
    "print(\"\\nElement-wise Subtraction:\")\n",
    "print(subtraction)\n",
    "\n",
    "print(\"\\nElement-wise Multiplication:\")\n",
    "print(multiplication)\n",
    "\n",
    "print(\"\\nElement-wise Division:\")\n",
    "print(division)"
   ]
  },
  {
   "cell_type": "markdown",
   "id": "620bbdb4-ec4e-4d15-82c2-2ba5dce8fb0a",
   "metadata": {},
   "source": [
    "### Explanation\n",
    "#### array1 and array2: \n",
    "Two 2D arrays are created.\n",
    "Element-wise Operations:\n",
    "##### Addition: \n",
    "array1 + array2 adds corresponding elements.\n",
    "##### Subtraction: \n",
    "array1 - array2 subtracts corresponding elements.\n",
    "##### Multiplication: \n",
    "array1 * array2 multiplies corresponding elements.\n",
    "##### Division: \n",
    "array1 / array2 divides corresponding elements, resulting in a float array.\n",
    "These operations are performed element-wise, meaning that each operation is applied to the corresponding elements of the two arrays."
   ]
  },
  {
   "cell_type": "markdown",
   "id": "66ff5ecb-ae67-47c5-8587-69cab22c8fee",
   "metadata": {},
   "source": [
    "### Que 8. Use NumPy to create a 5x5 identity matrix, then extract its diagonal elements."
   ]
  },
  {
   "cell_type": "markdown",
   "id": "fbfece13-24f4-44ce-8847-b56d91d9e754",
   "metadata": {},
   "source": [
    "### Answer"
   ]
  },
  {
   "cell_type": "code",
   "execution_count": 1,
   "id": "8c5ad6f9-db17-432b-9761-180f8564a499",
   "metadata": {},
   "outputs": [
    {
     "name": "stdout",
     "output_type": "stream",
     "text": [
      "Identity Matrix:\n",
      " [[1. 0. 0. 0. 0.]\n",
      " [0. 1. 0. 0. 0.]\n",
      " [0. 0. 1. 0. 0.]\n",
      " [0. 0. 0. 1. 0.]\n",
      " [0. 0. 0. 0. 1.]]\n",
      "Diagonal Elements: [1. 1. 1. 1. 1.]\n"
     ]
    }
   ],
   "source": [
    "import numpy as np\n",
    "\n",
    "# Create a 5x5 identity matrix\n",
    "identity_matrix = np.eye(5)\n",
    "\n",
    "# Extract the diagonal elements\n",
    "diagonal_elements = np.diag(identity_matrix)\n",
    "\n",
    "# Output the results\n",
    "print(\"Identity Matrix:\\n\", identity_matrix)\n",
    "print(\"Diagonal Elements:\", diagonal_elements)"
   ]
  },
  {
   "cell_type": "markdown",
   "id": "87a18756-a511-4818-827c-58a0b8382571",
   "metadata": {},
   "source": [
    "#### Explanation:\n",
    "- np.eye(5) creates a 5x5 identity matrix.\n",
    "- np.diag(identity_matrix) retrieves the diagonal elements of the matrix.\n",
    "\n",
    "The output will show the identity matrix and the diagonal elements, which will all be 1."
   ]
  },
  {
   "cell_type": "markdown",
   "id": "170241f2-6fb0-4728-b272-881509abf4e2",
   "metadata": {},
   "source": [
    "### Que 9. Generate a NumPy array of 100 random integers between 0 and 1000. Find and display all prime numbers in this array.\r",
    "."
   ]
  },
  {
   "cell_type": "markdown",
   "id": "5f38c578-57c2-410f-96e5-be4516d5c01a",
   "metadata": {},
   "source": [
    "### Answer\n",
    "To generate a NumPy array of 100 random integers between 0 and 1000 and then find and display all prime numbers in that array, you can use the following code:"
   ]
  },
  {
   "cell_type": "code",
   "execution_count": 2,
   "id": "da3dd8e3-8d8f-4206-8d7a-2997ddc5074d",
   "metadata": {},
   "outputs": [
    {
     "name": "stdout",
     "output_type": "stream",
     "text": [
      "Random Integers:\n",
      " [886 207 754 503 571 177 554 287 796 727 656 686 550 481 724 822 515 679\n",
      " 913 227 706  52 968 350 383 853 746  15 650 239 146 180 594 841 799 442\n",
      " 328 754 817 837 949 578 773 158 406 712 703 910  30 958 935 407 560 675\n",
      " 919 424 398 713 912 471 516 201 906 820 696 531 420 661 681 926 471 375\n",
      " 545 847 206 128 114 851 418 155 428 511 817 457  40 134 531 241 810 945\n",
      " 983 894 605 730 993 315  61  69 768 617]\n",
      "Prime Numbers: [503, 571, 727, 227, 383, 853, 239, 773, 919, 661, 457, 241, 983, 61, 617]\n"
     ]
    }
   ],
   "source": [
    "import numpy as np\n",
    "\n",
    "# Generate a NumPy array of 100 random integers between 0 and 1000\n",
    "random_integers = np.random.randint(0, 1000, size=100)\n",
    "\n",
    "# Function to check if a number is prime\n",
    "def is_prime(num):\n",
    "    if num <= 1:\n",
    "        return False\n",
    "    for i in range(2, int(num**0.5) + 1):\n",
    "        if num % i == 0:\n",
    "            return False\n",
    "    return True\n",
    "\n",
    "# Find all prime numbers in the array\n",
    "prime_numbers = [num for num in random_integers if is_prime(num)]\n",
    "\n",
    "print(\"Random Integers:\\n\", random_integers)\n",
    "print(\"Prime Numbers:\", prime_numbers)"
   ]
  },
  {
   "cell_type": "markdown",
   "id": "3c64b778-893e-4900-835f-0c705309547d",
   "metadata": {},
   "source": [
    "#### Explanation:\n",
    "1. np.random.randint(0, 1000, size=100) generates an array of 100 random integers between 0 and 1000.\n",
    "2. The is_prime function checks if a given number is prime.\n",
    "3. A list comprehension is used to filter out prime numbers from the array.\n",
    "4. Finally, the random integers and the identified prime numbers are printed.\n",
    "\n",
    "You can run this code to see the random integers and the prime numbers found within them."
   ]
  },
  {
   "cell_type": "markdown",
   "id": "b5587f1e-4c91-46dd-9c2c-d79cb0713d71",
   "metadata": {},
   "source": [
    "### Que 10. Create a NumPy array representing daily temperatures for a month. Calculate and display the weekly averages.\n"
   ]
  },
  {
   "cell_type": "markdown",
   "id": "e9419cf5-50da-48c7-84de-68219bf3cb4b",
   "metadata": {},
   "source": [
    "### Answer\n",
    "#### Step 1: Create the NumPy array\n",
    "Let's assume we have temperatures for a month (30 days). We'll generate some random temperatures for this example.\n",
    "\n",
    "#### Step 2: Calculate weekly averages\n",
    "You can then calculate the weekly averages using NumPy.\n",
    "\n",
    "Here's a sample code to demonstrate this:"
   ]
  },
  {
   "cell_type": "code",
   "execution_count": 3,
   "id": "8033b649-4afa-4032-9b1a-dadca303f780",
   "metadata": {},
   "outputs": [
    {
     "name": "stdout",
     "output_type": "stream",
     "text": [
      "Daily Temperatures for the Month:\n",
      "[27 20 15 18 26 18 22 24 18 20 17 19 22 21 23 23 27 25 16 21 22 22 29 23\n",
      " 16 20 24 28 23 24]\n",
      "\n",
      "Weekly Averages:\n",
      "[20.85714286 20.14285714 22.42857143 23.14285714]\n"
     ]
    }
   ],
   "source": [
    "import numpy as np\n",
    "\n",
    "# Step 1: Create a NumPy array with daily temperatures for a month\n",
    "np.random.seed(0)  # For reproducibility\n",
    "daily_temperatures = np.random.randint(low=15, high=30, size=30)  # Temperatures between 15 and 30 degrees\n",
    "\n",
    "# Display the daily temperatures\n",
    "print(\"Daily Temperatures for the Month:\")\n",
    "print(daily_temperatures)\n",
    "\n",
    "# Step 2: Calculate weekly averages\n",
    "# Reshape the array to 4 weeks (with 2 extra days that we will ignore)\n",
    "weekly_temperatures = daily_temperatures[:28].reshape(4, 7)\n",
    "\n",
    "# Calculate the average for each week\n",
    "weekly_averages = np.mean(weekly_temperatures, axis=1)\n",
    "\n",
    "# Display the weekly averages\n",
    "print(\"\\nWeekly Averages:\")\n",
    "print(weekly_averages)"
   ]
  },
  {
   "cell_type": "markdown",
   "id": "b277d7e4-1d87-45e1-8ba5-61fda4898dbd",
   "metadata": {},
   "source": [
    "#### Explanation:\n",
    "1. Creating the Array: We use np.random.randint to generate random daily temperatures between 15 and 30 degrees for 30 days.\n",
    "2. Reshape the Array: We reshape the array to a shape of (4, 7) to represent 4 weeks, using only the first 28 days.\n",
    "3. Calculating Averages: We use np.mean along the first axis (rows) to calculate the average temperature for each week.\n",
    "#### Output\n",
    "When you run this code, you’ll get the daily temperatures and the average temperatures for each of the 4 weeks."
   ]
  },
  {
   "cell_type": "code",
   "execution_count": null,
   "id": "5ab19053-44a4-4a12-845c-69a5cea0f646",
   "metadata": {},
   "outputs": [],
   "source": []
  }
 ],
 "metadata": {
  "kernelspec": {
   "display_name": "Python 3 (ipykernel)",
   "language": "python",
   "name": "python3"
  },
  "language_info": {
   "codemirror_mode": {
    "name": "ipython",
    "version": 3
   },
   "file_extension": ".py",
   "mimetype": "text/x-python",
   "name": "python",
   "nbconvert_exporter": "python",
   "pygments_lexer": "ipython3",
   "version": "3.12.4"
  }
 },
 "nbformat": 4,
 "nbformat_minor": 5
}
